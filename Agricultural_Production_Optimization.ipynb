{
  "nbformat": 4,
  "nbformat_minor": 0,
  "metadata": {
    "colab": {
      "name": "Agricultural Production Optimization.ipynb",
      "provenance": [],
      "authorship_tag": "ABX9TyNjxj9HCE/dwzox/1NJh334",
      "include_colab_link": true
    },
    "kernelspec": {
      "name": "python3",
      "display_name": "Python 3"
    },
    "language_info": {
      "name": "python"
    },
    "widgets": {
      "application/vnd.jupyter.widget-state+json": {
        "f9428fe9083a4876993c8df550782a91": {
          "model_module": "@jupyter-widgets/controls",
          "model_name": "VBoxModel",
          "model_module_version": "1.5.0",
          "state": {
            "_dom_classes": [
              "widget-interact"
            ],
            "_model_module": "@jupyter-widgets/controls",
            "_model_module_version": "1.5.0",
            "_model_name": "VBoxModel",
            "_view_count": null,
            "_view_module": "@jupyter-widgets/controls",
            "_view_module_version": "1.5.0",
            "_view_name": "VBoxView",
            "box_style": "",
            "children": [
              "IPY_MODEL_ca13267fdcd049e3b39e9bf09be4cbef",
              "IPY_MODEL_a38f3420a88c49b5a88abbe39e9dbed5"
            ],
            "layout": "IPY_MODEL_e713d8094e8746599743823948813cad"
          }
        },
        "ca13267fdcd049e3b39e9bf09be4cbef": {
          "model_module": "@jupyter-widgets/controls",
          "model_name": "DropdownModel",
          "model_module_version": "1.5.0",
          "state": {
            "_dom_classes": [],
            "_model_module": "@jupyter-widgets/controls",
            "_model_module_version": "1.5.0",
            "_model_name": "DropdownModel",
            "_options_labels": [
              "rice",
              "maize",
              "jute",
              "cotton",
              "coconut",
              "papaya",
              "orange",
              "apple",
              "muskmelon",
              "watermelon",
              "grapes",
              "mango",
              "banana",
              "pomegranate",
              "lentil",
              "blackgram",
              "mungbean",
              "mothbeans",
              "pigeonpeas",
              "kidneybeans",
              "chickpea",
              "coffee"
            ],
            "_view_count": null,
            "_view_module": "@jupyter-widgets/controls",
            "_view_module_version": "1.5.0",
            "_view_name": "DropdownView",
            "description": "crops",
            "description_tooltip": null,
            "disabled": false,
            "index": 15,
            "layout": "IPY_MODEL_c506c08a94294d9ab286d85c477589ce",
            "style": "IPY_MODEL_f9e142657ba44f7ead429c70f63a2d9b"
          }
        },
        "a38f3420a88c49b5a88abbe39e9dbed5": {
          "model_module": "@jupyter-widgets/output",
          "model_name": "OutputModel",
          "model_module_version": "1.0.0",
          "state": {
            "_dom_classes": [],
            "_model_module": "@jupyter-widgets/output",
            "_model_module_version": "1.0.0",
            "_model_name": "OutputModel",
            "_view_count": null,
            "_view_module": "@jupyter-widgets/output",
            "_view_module_version": "1.0.0",
            "_view_name": "OutputView",
            "layout": "IPY_MODEL_0a90062ecbcf4cd7acb51fd5b0a12972",
            "msg_id": "",
            "outputs": [
              {
                "output_type": "stream",
                "name": "stdout",
                "text": [
                  "___________________________________________________\n",
                  "Statistic of Nitrogen :\n",
                  "Minimum Nitrogen required : 20\n",
                  "Average Nitrogen required : 40.02\n",
                  "Mximum Nitrogen required : 60\n",
                  "___________________________________________________\n",
                  "Statistic of Phosphorous :\n",
                  "Minimum Phosphorous required : 55\n",
                  "Average Phosphorous required : 67.47\n",
                  "Mximum Phosphorous required : 80\n",
                  "___________________________________________________\n",
                  "Statistic of Potassium :\n",
                  "Minimum Potassium required : 15\n",
                  "Average Potassium required : 19.24\n",
                  "Mximum Potassium required : 25\n",
                  "___________________________________________________\n",
                  "Statistic of Temperature :\n",
                  "Minimum Temperature required : 25.09737391\n",
                  "Average Temperature required : 29.97333967889999\n",
                  "Mximum Temperature required : 34.9466155\n",
                  "___________________________________________________\n",
                  "Statistic of Humidity :\n",
                  "Minimum Humidity required : 60.06534859\n",
                  "Average Humidity required : 65.11842558870002\n",
                  "Mximum Humidity required : 69.96100028\n",
                  "___________________________________________________\n",
                  "Statistic of ph :\n",
                  "Minimum ph required : 6.500144962\n",
                  "Average ph required : 7.1339516294799985\n",
                  "Mximum ph required : 7.775306272\n",
                  "___________________________________________________\n",
                  "Statistic of Rainfall :\n",
                  "Minimum Rainfall required : 60.41790253\n",
                  "Average Rainfall required : 67.88415118319999\n",
                  "Mximum Rainfall required : 74.91559514\n",
                  "___________________________________________________\n"
                ]
              }
            ]
          }
        },
        "e713d8094e8746599743823948813cad": {
          "model_module": "@jupyter-widgets/base",
          "model_name": "LayoutModel",
          "model_module_version": "1.2.0",
          "state": {
            "_model_module": "@jupyter-widgets/base",
            "_model_module_version": "1.2.0",
            "_model_name": "LayoutModel",
            "_view_count": null,
            "_view_module": "@jupyter-widgets/base",
            "_view_module_version": "1.2.0",
            "_view_name": "LayoutView",
            "align_content": null,
            "align_items": null,
            "align_self": null,
            "border": null,
            "bottom": null,
            "display": null,
            "flex": null,
            "flex_flow": null,
            "grid_area": null,
            "grid_auto_columns": null,
            "grid_auto_flow": null,
            "grid_auto_rows": null,
            "grid_column": null,
            "grid_gap": null,
            "grid_row": null,
            "grid_template_areas": null,
            "grid_template_columns": null,
            "grid_template_rows": null,
            "height": null,
            "justify_content": null,
            "justify_items": null,
            "left": null,
            "margin": null,
            "max_height": null,
            "max_width": null,
            "min_height": null,
            "min_width": null,
            "object_fit": null,
            "object_position": null,
            "order": null,
            "overflow": null,
            "overflow_x": null,
            "overflow_y": null,
            "padding": null,
            "right": null,
            "top": null,
            "visibility": null,
            "width": null
          }
        },
        "c506c08a94294d9ab286d85c477589ce": {
          "model_module": "@jupyter-widgets/base",
          "model_name": "LayoutModel",
          "model_module_version": "1.2.0",
          "state": {
            "_model_module": "@jupyter-widgets/base",
            "_model_module_version": "1.2.0",
            "_model_name": "LayoutModel",
            "_view_count": null,
            "_view_module": "@jupyter-widgets/base",
            "_view_module_version": "1.2.0",
            "_view_name": "LayoutView",
            "align_content": null,
            "align_items": null,
            "align_self": null,
            "border": null,
            "bottom": null,
            "display": null,
            "flex": null,
            "flex_flow": null,
            "grid_area": null,
            "grid_auto_columns": null,
            "grid_auto_flow": null,
            "grid_auto_rows": null,
            "grid_column": null,
            "grid_gap": null,
            "grid_row": null,
            "grid_template_areas": null,
            "grid_template_columns": null,
            "grid_template_rows": null,
            "height": null,
            "justify_content": null,
            "justify_items": null,
            "left": null,
            "margin": null,
            "max_height": null,
            "max_width": null,
            "min_height": null,
            "min_width": null,
            "object_fit": null,
            "object_position": null,
            "order": null,
            "overflow": null,
            "overflow_x": null,
            "overflow_y": null,
            "padding": null,
            "right": null,
            "top": null,
            "visibility": null,
            "width": null
          }
        },
        "f9e142657ba44f7ead429c70f63a2d9b": {
          "model_module": "@jupyter-widgets/controls",
          "model_name": "DescriptionStyleModel",
          "model_module_version": "1.5.0",
          "state": {
            "_model_module": "@jupyter-widgets/controls",
            "_model_module_version": "1.5.0",
            "_model_name": "DescriptionStyleModel",
            "_view_count": null,
            "_view_module": "@jupyter-widgets/base",
            "_view_module_version": "1.2.0",
            "_view_name": "StyleView",
            "description_width": ""
          }
        },
        "0a90062ecbcf4cd7acb51fd5b0a12972": {
          "model_module": "@jupyter-widgets/base",
          "model_name": "LayoutModel",
          "model_module_version": "1.2.0",
          "state": {
            "_model_module": "@jupyter-widgets/base",
            "_model_module_version": "1.2.0",
            "_model_name": "LayoutModel",
            "_view_count": null,
            "_view_module": "@jupyter-widgets/base",
            "_view_module_version": "1.2.0",
            "_view_name": "LayoutView",
            "align_content": null,
            "align_items": null,
            "align_self": null,
            "border": null,
            "bottom": null,
            "display": null,
            "flex": null,
            "flex_flow": null,
            "grid_area": null,
            "grid_auto_columns": null,
            "grid_auto_flow": null,
            "grid_auto_rows": null,
            "grid_column": null,
            "grid_gap": null,
            "grid_row": null,
            "grid_template_areas": null,
            "grid_template_columns": null,
            "grid_template_rows": null,
            "height": null,
            "justify_content": null,
            "justify_items": null,
            "left": null,
            "margin": null,
            "max_height": null,
            "max_width": null,
            "min_height": null,
            "min_width": null,
            "object_fit": null,
            "object_position": null,
            "order": null,
            "overflow": null,
            "overflow_x": null,
            "overflow_y": null,
            "padding": null,
            "right": null,
            "top": null,
            "visibility": null,
            "width": null
          }
        },
        "2b629d7e054b4c24bb54d003e7a6b7ed": {
          "model_module": "@jupyter-widgets/controls",
          "model_name": "VBoxModel",
          "model_module_version": "1.5.0",
          "state": {
            "_dom_classes": [
              "widget-interact"
            ],
            "_model_module": "@jupyter-widgets/controls",
            "_model_module_version": "1.5.0",
            "_model_name": "VBoxModel",
            "_view_count": null,
            "_view_module": "@jupyter-widgets/controls",
            "_view_module_version": "1.5.0",
            "_view_name": "VBoxView",
            "box_style": "",
            "children": [
              "IPY_MODEL_2c888f9a54d547d08fed69dde529d5cd",
              "IPY_MODEL_dcdab21db226423194a18c9b7ebc354c"
            ],
            "layout": "IPY_MODEL_a5fb841f0ab94d3e9824fd0eb6c87722"
          }
        },
        "2c888f9a54d547d08fed69dde529d5cd": {
          "model_module": "@jupyter-widgets/controls",
          "model_name": "DropdownModel",
          "model_module_version": "1.5.0",
          "state": {
            "_dom_classes": [],
            "_model_module": "@jupyter-widgets/controls",
            "_model_module_version": "1.5.0",
            "_model_name": "DropdownModel",
            "_options_labels": [
              "N",
              "P",
              "K",
              "temperature",
              "humidity",
              "ph",
              "rainfall"
            ],
            "_view_count": null,
            "_view_module": "@jupyter-widgets/controls",
            "_view_module_version": "1.5.0",
            "_view_name": "DropdownView",
            "description": "conditions",
            "description_tooltip": null,
            "disabled": false,
            "index": 0,
            "layout": "IPY_MODEL_7f1b4561d5d443f4ad093cb2d277cf12",
            "style": "IPY_MODEL_ef23878fe77c440896a0e13db1aea8b0"
          }
        },
        "dcdab21db226423194a18c9b7ebc354c": {
          "model_module": "@jupyter-widgets/output",
          "model_name": "OutputModel",
          "model_module_version": "1.0.0",
          "state": {
            "_dom_classes": [],
            "_model_module": "@jupyter-widgets/output",
            "_model_module_version": "1.0.0",
            "_model_name": "OutputModel",
            "_view_count": null,
            "_view_module": "@jupyter-widgets/output",
            "_view_module_version": "1.0.0",
            "_view_name": "OutputView",
            "layout": "IPY_MODEL_4174100b21e74c74b33d54c7481e65df",
            "msg_id": "",
            "outputs": [
              {
                "output_type": "stream",
                "name": "stdout",
                "text": [
                  "Average value for  N is 50.55\n",
                  "_____________________________________________________________________________\n",
                  "Rice : 79.89\n",
                  "maize : 77.76\n",
                  "chickpea : 40.09\n",
                  "kidneybeans : 20.75\n",
                  "pigeonpeas : 20.73\n",
                  "mothbeans : 21.44\n",
                  "mungbean : 20.99\n",
                  "blackgram : 40.02\n",
                  "lentil : 18.77\n",
                  "pomegranate : 18.87\n",
                  "banana : 100.23\n",
                  "mango : 20.07\n",
                  "grapes : 23.18\n",
                  "watermelon : 99.42\n",
                  "muskmelon : 100.32\n",
                  "apple : 20.80\n",
                  "orange : 19.58\n",
                  "papaya : 49.88\n",
                  "coconut : 21.98\n",
                  "cotton : 117.77\n",
                  "jute : 78.40\n",
                  "coffee : 101.20\n"
                ]
              }
            ]
          }
        },
        "a5fb841f0ab94d3e9824fd0eb6c87722": {
          "model_module": "@jupyter-widgets/base",
          "model_name": "LayoutModel",
          "model_module_version": "1.2.0",
          "state": {
            "_model_module": "@jupyter-widgets/base",
            "_model_module_version": "1.2.0",
            "_model_name": "LayoutModel",
            "_view_count": null,
            "_view_module": "@jupyter-widgets/base",
            "_view_module_version": "1.2.0",
            "_view_name": "LayoutView",
            "align_content": null,
            "align_items": null,
            "align_self": null,
            "border": null,
            "bottom": null,
            "display": null,
            "flex": null,
            "flex_flow": null,
            "grid_area": null,
            "grid_auto_columns": null,
            "grid_auto_flow": null,
            "grid_auto_rows": null,
            "grid_column": null,
            "grid_gap": null,
            "grid_row": null,
            "grid_template_areas": null,
            "grid_template_columns": null,
            "grid_template_rows": null,
            "height": null,
            "justify_content": null,
            "justify_items": null,
            "left": null,
            "margin": null,
            "max_height": null,
            "max_width": null,
            "min_height": null,
            "min_width": null,
            "object_fit": null,
            "object_position": null,
            "order": null,
            "overflow": null,
            "overflow_x": null,
            "overflow_y": null,
            "padding": null,
            "right": null,
            "top": null,
            "visibility": null,
            "width": null
          }
        },
        "7f1b4561d5d443f4ad093cb2d277cf12": {
          "model_module": "@jupyter-widgets/base",
          "model_name": "LayoutModel",
          "model_module_version": "1.2.0",
          "state": {
            "_model_module": "@jupyter-widgets/base",
            "_model_module_version": "1.2.0",
            "_model_name": "LayoutModel",
            "_view_count": null,
            "_view_module": "@jupyter-widgets/base",
            "_view_module_version": "1.2.0",
            "_view_name": "LayoutView",
            "align_content": null,
            "align_items": null,
            "align_self": null,
            "border": null,
            "bottom": null,
            "display": null,
            "flex": null,
            "flex_flow": null,
            "grid_area": null,
            "grid_auto_columns": null,
            "grid_auto_flow": null,
            "grid_auto_rows": null,
            "grid_column": null,
            "grid_gap": null,
            "grid_row": null,
            "grid_template_areas": null,
            "grid_template_columns": null,
            "grid_template_rows": null,
            "height": null,
            "justify_content": null,
            "justify_items": null,
            "left": null,
            "margin": null,
            "max_height": null,
            "max_width": null,
            "min_height": null,
            "min_width": null,
            "object_fit": null,
            "object_position": null,
            "order": null,
            "overflow": null,
            "overflow_x": null,
            "overflow_y": null,
            "padding": null,
            "right": null,
            "top": null,
            "visibility": null,
            "width": null
          }
        },
        "ef23878fe77c440896a0e13db1aea8b0": {
          "model_module": "@jupyter-widgets/controls",
          "model_name": "DescriptionStyleModel",
          "model_module_version": "1.5.0",
          "state": {
            "_model_module": "@jupyter-widgets/controls",
            "_model_module_version": "1.5.0",
            "_model_name": "DescriptionStyleModel",
            "_view_count": null,
            "_view_module": "@jupyter-widgets/base",
            "_view_module_version": "1.2.0",
            "_view_name": "StyleView",
            "description_width": ""
          }
        },
        "4174100b21e74c74b33d54c7481e65df": {
          "model_module": "@jupyter-widgets/base",
          "model_name": "LayoutModel",
          "model_module_version": "1.2.0",
          "state": {
            "_model_module": "@jupyter-widgets/base",
            "_model_module_version": "1.2.0",
            "_model_name": "LayoutModel",
            "_view_count": null,
            "_view_module": "@jupyter-widgets/base",
            "_view_module_version": "1.2.0",
            "_view_name": "LayoutView",
            "align_content": null,
            "align_items": null,
            "align_self": null,
            "border": null,
            "bottom": null,
            "display": null,
            "flex": null,
            "flex_flow": null,
            "grid_area": null,
            "grid_auto_columns": null,
            "grid_auto_flow": null,
            "grid_auto_rows": null,
            "grid_column": null,
            "grid_gap": null,
            "grid_row": null,
            "grid_template_areas": null,
            "grid_template_columns": null,
            "grid_template_rows": null,
            "height": null,
            "justify_content": null,
            "justify_items": null,
            "left": null,
            "margin": null,
            "max_height": null,
            "max_width": null,
            "min_height": null,
            "min_width": null,
            "object_fit": null,
            "object_position": null,
            "order": null,
            "overflow": null,
            "overflow_x": null,
            "overflow_y": null,
            "padding": null,
            "right": null,
            "top": null,
            "visibility": null,
            "width": null
          }
        },
        "a69a15ef11bc4cd5ac64e3217114c90b": {
          "model_module": "@jupyter-widgets/controls",
          "model_name": "VBoxModel",
          "model_module_version": "1.5.0",
          "state": {
            "_dom_classes": [
              "widget-interact"
            ],
            "_model_module": "@jupyter-widgets/controls",
            "_model_module_version": "1.5.0",
            "_model_name": "VBoxModel",
            "_view_count": null,
            "_view_module": "@jupyter-widgets/controls",
            "_view_module_version": "1.5.0",
            "_view_name": "VBoxView",
            "box_style": "",
            "children": [
              "IPY_MODEL_10236bd2b3504639b64f17f92de094ff",
              "IPY_MODEL_ce173b19973d48919d37ae851bc43341"
            ],
            "layout": "IPY_MODEL_4d48d29c66a64620a96994255daa9d01"
          }
        },
        "10236bd2b3504639b64f17f92de094ff": {
          "model_module": "@jupyter-widgets/controls",
          "model_name": "DropdownModel",
          "model_module_version": "1.5.0",
          "state": {
            "_dom_classes": [],
            "_model_module": "@jupyter-widgets/controls",
            "_model_module_version": "1.5.0",
            "_model_name": "DropdownModel",
            "_options_labels": [
              "N",
              "P",
              "K",
              "temperature",
              "humidity",
              "ph",
              "rainfall"
            ],
            "_view_count": null,
            "_view_module": "@jupyter-widgets/controls",
            "_view_module_version": "1.5.0",
            "_view_name": "DropdownView",
            "description": "conditions",
            "description_tooltip": null,
            "disabled": false,
            "index": 0,
            "layout": "IPY_MODEL_b5288850ca504bfc8cc422f16bcc6daf",
            "style": "IPY_MODEL_253af768b06a4584ae9692a0bfe4a446"
          }
        },
        "ce173b19973d48919d37ae851bc43341": {
          "model_module": "@jupyter-widgets/output",
          "model_name": "OutputModel",
          "model_module_version": "1.0.0",
          "state": {
            "_dom_classes": [],
            "_model_module": "@jupyter-widgets/output",
            "_model_module_version": "1.0.0",
            "_model_name": "OutputModel",
            "_view_count": null,
            "_view_module": "@jupyter-widgets/output",
            "_view_module_version": "1.0.0",
            "_view_name": "OutputView",
            "layout": "IPY_MODEL_c05b1aa1e2b3498da71df5fd776cf139",
            "msg_id": "",
            "outputs": [
              {
                "output_type": "stream",
                "name": "stdout",
                "text": [
                  "Crops which require greater than average N \n",
                  "\n",
                  "['rice' 'maize' 'chickpea' 'blackgram' 'banana' 'watermelon' 'muskmelon'\n",
                  " 'papaya' 'cotton' 'jute' 'coffee']\n",
                  "________________________________________________________________________________\n",
                  "Crops which require less than average N \n",
                  "\n",
                  "['chickpea' 'kidneybeans' 'pigeonpeas' 'mothbeans' 'mungbean' 'blackgram'\n",
                  " 'lentil' 'pomegranate' 'mango' 'grapes' 'apple' 'orange' 'papaya'\n",
                  " 'coconut']\n"
                ]
              }
            ]
          }
        },
        "4d48d29c66a64620a96994255daa9d01": {
          "model_module": "@jupyter-widgets/base",
          "model_name": "LayoutModel",
          "model_module_version": "1.2.0",
          "state": {
            "_model_module": "@jupyter-widgets/base",
            "_model_module_version": "1.2.0",
            "_model_name": "LayoutModel",
            "_view_count": null,
            "_view_module": "@jupyter-widgets/base",
            "_view_module_version": "1.2.0",
            "_view_name": "LayoutView",
            "align_content": null,
            "align_items": null,
            "align_self": null,
            "border": null,
            "bottom": null,
            "display": null,
            "flex": null,
            "flex_flow": null,
            "grid_area": null,
            "grid_auto_columns": null,
            "grid_auto_flow": null,
            "grid_auto_rows": null,
            "grid_column": null,
            "grid_gap": null,
            "grid_row": null,
            "grid_template_areas": null,
            "grid_template_columns": null,
            "grid_template_rows": null,
            "height": null,
            "justify_content": null,
            "justify_items": null,
            "left": null,
            "margin": null,
            "max_height": null,
            "max_width": null,
            "min_height": null,
            "min_width": null,
            "object_fit": null,
            "object_position": null,
            "order": null,
            "overflow": null,
            "overflow_x": null,
            "overflow_y": null,
            "padding": null,
            "right": null,
            "top": null,
            "visibility": null,
            "width": null
          }
        },
        "b5288850ca504bfc8cc422f16bcc6daf": {
          "model_module": "@jupyter-widgets/base",
          "model_name": "LayoutModel",
          "model_module_version": "1.2.0",
          "state": {
            "_model_module": "@jupyter-widgets/base",
            "_model_module_version": "1.2.0",
            "_model_name": "LayoutModel",
            "_view_count": null,
            "_view_module": "@jupyter-widgets/base",
            "_view_module_version": "1.2.0",
            "_view_name": "LayoutView",
            "align_content": null,
            "align_items": null,
            "align_self": null,
            "border": null,
            "bottom": null,
            "display": null,
            "flex": null,
            "flex_flow": null,
            "grid_area": null,
            "grid_auto_columns": null,
            "grid_auto_flow": null,
            "grid_auto_rows": null,
            "grid_column": null,
            "grid_gap": null,
            "grid_row": null,
            "grid_template_areas": null,
            "grid_template_columns": null,
            "grid_template_rows": null,
            "height": null,
            "justify_content": null,
            "justify_items": null,
            "left": null,
            "margin": null,
            "max_height": null,
            "max_width": null,
            "min_height": null,
            "min_width": null,
            "object_fit": null,
            "object_position": null,
            "order": null,
            "overflow": null,
            "overflow_x": null,
            "overflow_y": null,
            "padding": null,
            "right": null,
            "top": null,
            "visibility": null,
            "width": null
          }
        },
        "253af768b06a4584ae9692a0bfe4a446": {
          "model_module": "@jupyter-widgets/controls",
          "model_name": "DescriptionStyleModel",
          "model_module_version": "1.5.0",
          "state": {
            "_model_module": "@jupyter-widgets/controls",
            "_model_module_version": "1.5.0",
            "_model_name": "DescriptionStyleModel",
            "_view_count": null,
            "_view_module": "@jupyter-widgets/base",
            "_view_module_version": "1.2.0",
            "_view_name": "StyleView",
            "description_width": ""
          }
        },
        "c05b1aa1e2b3498da71df5fd776cf139": {
          "model_module": "@jupyter-widgets/base",
          "model_name": "LayoutModel",
          "model_module_version": "1.2.0",
          "state": {
            "_model_module": "@jupyter-widgets/base",
            "_model_module_version": "1.2.0",
            "_model_name": "LayoutModel",
            "_view_count": null,
            "_view_module": "@jupyter-widgets/base",
            "_view_module_version": "1.2.0",
            "_view_name": "LayoutView",
            "align_content": null,
            "align_items": null,
            "align_self": null,
            "border": null,
            "bottom": null,
            "display": null,
            "flex": null,
            "flex_flow": null,
            "grid_area": null,
            "grid_auto_columns": null,
            "grid_auto_flow": null,
            "grid_auto_rows": null,
            "grid_column": null,
            "grid_gap": null,
            "grid_row": null,
            "grid_template_areas": null,
            "grid_template_columns": null,
            "grid_template_rows": null,
            "height": null,
            "justify_content": null,
            "justify_items": null,
            "left": null,
            "margin": null,
            "max_height": null,
            "max_width": null,
            "min_height": null,
            "min_width": null,
            "object_fit": null,
            "object_position": null,
            "order": null,
            "overflow": null,
            "overflow_x": null,
            "overflow_y": null,
            "padding": null,
            "right": null,
            "top": null,
            "visibility": null,
            "width": null
          }
        }
      }
    }
  },
  "cells": [
    {
      "cell_type": "markdown",
      "metadata": {
        "id": "view-in-github",
        "colab_type": "text"
      },
      "source": [
        "<a href=\"https://colab.research.google.com/github/shubhamtapadia/DataScience_Stuff/blob/main/Agricultural_Production_Optimization.ipynb\" target=\"_parent\"><img src=\"https://colab.research.google.com/assets/colab-badge.svg\" alt=\"Open In Colab\"/></a>"
      ]
    },
    {
      "cell_type": "code",
      "execution_count": 1,
      "metadata": {
        "id": "s56_76n7rxb1"
      },
      "outputs": [],
      "source": [
        "#Model that suggest most suitable crops to grow based on available enviroment , soil condition    "
      ]
    },
    {
      "cell_type": "code",
      "source": [
        "#Data Manupulation\n",
        "import pandas as pd\n",
        "import numpy as np\n",
        "\n",
        "#Data Visualization\n",
        "import matplotlib.pyplot as plt\n",
        "import seaborn as sb\n",
        "\n",
        "#Interactivity\n",
        "from ipywidgets import interact"
      ],
      "metadata": {
        "id": "IKpTaI1_uw9s"
      },
      "execution_count": 2,
      "outputs": []
    },
    {
      "cell_type": "code",
      "source": [
        "from google.colab import drive\n",
        "drive.mount('/gdrive')"
      ],
      "metadata": {
        "colab": {
          "base_uri": "https://localhost:8080/"
        },
        "id": "OeZ0bwKWu1UM",
        "outputId": "2a999a4e-4f66-4d3c-f1ac-d5bf58648439"
      },
      "execution_count": 3,
      "outputs": [
        {
          "output_type": "stream",
          "name": "stdout",
          "text": [
            "Mounted at /gdrive\n"
          ]
        }
      ]
    },
    {
      "cell_type": "code",
      "source": [
        "df=pd.read_csv('/gdrive/MyDrive/DataScience_Stuff/agriculture_data.csv')\n",
        "df.head(10)"
      ],
      "metadata": {
        "colab": {
          "base_uri": "https://localhost:8080/",
          "height": 363
        },
        "id": "wNGAlb-9vV3-",
        "outputId": "ef3c21c3-5626-4988-c722-2e0ff96e07cc"
      },
      "execution_count": 4,
      "outputs": [
        {
          "output_type": "execute_result",
          "data": {
            "text/plain": [
              "    N   P   K  temperature   humidity        ph    rainfall label\n",
              "0  90  42  43    20.879744  82.002744  6.502985  202.935536  rice\n",
              "1  85  58  41    21.770462  80.319644  7.038096  226.655537  rice\n",
              "2  60  55  44    23.004459  82.320763  7.840207  263.964248  rice\n",
              "3  74  35  40    26.491096  80.158363  6.980401  242.864034  rice\n",
              "4  78  42  42    20.130175  81.604873  7.628473  262.717340  rice\n",
              "5  69  37  42    23.058049  83.370118  7.073454  251.055000  rice\n",
              "6  69  55  38    22.708838  82.639414  5.700806  271.324860  rice\n",
              "7  94  53  40    20.277744  82.894086  5.718627  241.974195  rice\n",
              "8  89  54  38    24.515881  83.535216  6.685346  230.446236  rice\n",
              "9  68  58  38    23.223974  83.033227  6.336254  221.209196  rice"
            ],
            "text/html": [
              "\n",
              "  <div id=\"df-ae5ad6a1-313a-4a20-853e-659c9a6ea40d\">\n",
              "    <div class=\"colab-df-container\">\n",
              "      <div>\n",
              "<style scoped>\n",
              "    .dataframe tbody tr th:only-of-type {\n",
              "        vertical-align: middle;\n",
              "    }\n",
              "\n",
              "    .dataframe tbody tr th {\n",
              "        vertical-align: top;\n",
              "    }\n",
              "\n",
              "    .dataframe thead th {\n",
              "        text-align: right;\n",
              "    }\n",
              "</style>\n",
              "<table border=\"1\" class=\"dataframe\">\n",
              "  <thead>\n",
              "    <tr style=\"text-align: right;\">\n",
              "      <th></th>\n",
              "      <th>N</th>\n",
              "      <th>P</th>\n",
              "      <th>K</th>\n",
              "      <th>temperature</th>\n",
              "      <th>humidity</th>\n",
              "      <th>ph</th>\n",
              "      <th>rainfall</th>\n",
              "      <th>label</th>\n",
              "    </tr>\n",
              "  </thead>\n",
              "  <tbody>\n",
              "    <tr>\n",
              "      <th>0</th>\n",
              "      <td>90</td>\n",
              "      <td>42</td>\n",
              "      <td>43</td>\n",
              "      <td>20.879744</td>\n",
              "      <td>82.002744</td>\n",
              "      <td>6.502985</td>\n",
              "      <td>202.935536</td>\n",
              "      <td>rice</td>\n",
              "    </tr>\n",
              "    <tr>\n",
              "      <th>1</th>\n",
              "      <td>85</td>\n",
              "      <td>58</td>\n",
              "      <td>41</td>\n",
              "      <td>21.770462</td>\n",
              "      <td>80.319644</td>\n",
              "      <td>7.038096</td>\n",
              "      <td>226.655537</td>\n",
              "      <td>rice</td>\n",
              "    </tr>\n",
              "    <tr>\n",
              "      <th>2</th>\n",
              "      <td>60</td>\n",
              "      <td>55</td>\n",
              "      <td>44</td>\n",
              "      <td>23.004459</td>\n",
              "      <td>82.320763</td>\n",
              "      <td>7.840207</td>\n",
              "      <td>263.964248</td>\n",
              "      <td>rice</td>\n",
              "    </tr>\n",
              "    <tr>\n",
              "      <th>3</th>\n",
              "      <td>74</td>\n",
              "      <td>35</td>\n",
              "      <td>40</td>\n",
              "      <td>26.491096</td>\n",
              "      <td>80.158363</td>\n",
              "      <td>6.980401</td>\n",
              "      <td>242.864034</td>\n",
              "      <td>rice</td>\n",
              "    </tr>\n",
              "    <tr>\n",
              "      <th>4</th>\n",
              "      <td>78</td>\n",
              "      <td>42</td>\n",
              "      <td>42</td>\n",
              "      <td>20.130175</td>\n",
              "      <td>81.604873</td>\n",
              "      <td>7.628473</td>\n",
              "      <td>262.717340</td>\n",
              "      <td>rice</td>\n",
              "    </tr>\n",
              "    <tr>\n",
              "      <th>5</th>\n",
              "      <td>69</td>\n",
              "      <td>37</td>\n",
              "      <td>42</td>\n",
              "      <td>23.058049</td>\n",
              "      <td>83.370118</td>\n",
              "      <td>7.073454</td>\n",
              "      <td>251.055000</td>\n",
              "      <td>rice</td>\n",
              "    </tr>\n",
              "    <tr>\n",
              "      <th>6</th>\n",
              "      <td>69</td>\n",
              "      <td>55</td>\n",
              "      <td>38</td>\n",
              "      <td>22.708838</td>\n",
              "      <td>82.639414</td>\n",
              "      <td>5.700806</td>\n",
              "      <td>271.324860</td>\n",
              "      <td>rice</td>\n",
              "    </tr>\n",
              "    <tr>\n",
              "      <th>7</th>\n",
              "      <td>94</td>\n",
              "      <td>53</td>\n",
              "      <td>40</td>\n",
              "      <td>20.277744</td>\n",
              "      <td>82.894086</td>\n",
              "      <td>5.718627</td>\n",
              "      <td>241.974195</td>\n",
              "      <td>rice</td>\n",
              "    </tr>\n",
              "    <tr>\n",
              "      <th>8</th>\n",
              "      <td>89</td>\n",
              "      <td>54</td>\n",
              "      <td>38</td>\n",
              "      <td>24.515881</td>\n",
              "      <td>83.535216</td>\n",
              "      <td>6.685346</td>\n",
              "      <td>230.446236</td>\n",
              "      <td>rice</td>\n",
              "    </tr>\n",
              "    <tr>\n",
              "      <th>9</th>\n",
              "      <td>68</td>\n",
              "      <td>58</td>\n",
              "      <td>38</td>\n",
              "      <td>23.223974</td>\n",
              "      <td>83.033227</td>\n",
              "      <td>6.336254</td>\n",
              "      <td>221.209196</td>\n",
              "      <td>rice</td>\n",
              "    </tr>\n",
              "  </tbody>\n",
              "</table>\n",
              "</div>\n",
              "      <button class=\"colab-df-convert\" onclick=\"convertToInteractive('df-ae5ad6a1-313a-4a20-853e-659c9a6ea40d')\"\n",
              "              title=\"Convert this dataframe to an interactive table.\"\n",
              "              style=\"display:none;\">\n",
              "        \n",
              "  <svg xmlns=\"http://www.w3.org/2000/svg\" height=\"24px\"viewBox=\"0 0 24 24\"\n",
              "       width=\"24px\">\n",
              "    <path d=\"M0 0h24v24H0V0z\" fill=\"none\"/>\n",
              "    <path d=\"M18.56 5.44l.94 2.06.94-2.06 2.06-.94-2.06-.94-.94-2.06-.94 2.06-2.06.94zm-11 1L8.5 8.5l.94-2.06 2.06-.94-2.06-.94L8.5 2.5l-.94 2.06-2.06.94zm10 10l.94 2.06.94-2.06 2.06-.94-2.06-.94-.94-2.06-.94 2.06-2.06.94z\"/><path d=\"M17.41 7.96l-1.37-1.37c-.4-.4-.92-.59-1.43-.59-.52 0-1.04.2-1.43.59L10.3 9.45l-7.72 7.72c-.78.78-.78 2.05 0 2.83L4 21.41c.39.39.9.59 1.41.59.51 0 1.02-.2 1.41-.59l7.78-7.78 2.81-2.81c.8-.78.8-2.07 0-2.86zM5.41 20L4 18.59l7.72-7.72 1.47 1.35L5.41 20z\"/>\n",
              "  </svg>\n",
              "      </button>\n",
              "      \n",
              "  <style>\n",
              "    .colab-df-container {\n",
              "      display:flex;\n",
              "      flex-wrap:wrap;\n",
              "      gap: 12px;\n",
              "    }\n",
              "\n",
              "    .colab-df-convert {\n",
              "      background-color: #E8F0FE;\n",
              "      border: none;\n",
              "      border-radius: 50%;\n",
              "      cursor: pointer;\n",
              "      display: none;\n",
              "      fill: #1967D2;\n",
              "      height: 32px;\n",
              "      padding: 0 0 0 0;\n",
              "      width: 32px;\n",
              "    }\n",
              "\n",
              "    .colab-df-convert:hover {\n",
              "      background-color: #E2EBFA;\n",
              "      box-shadow: 0px 1px 2px rgba(60, 64, 67, 0.3), 0px 1px 3px 1px rgba(60, 64, 67, 0.15);\n",
              "      fill: #174EA6;\n",
              "    }\n",
              "\n",
              "    [theme=dark] .colab-df-convert {\n",
              "      background-color: #3B4455;\n",
              "      fill: #D2E3FC;\n",
              "    }\n",
              "\n",
              "    [theme=dark] .colab-df-convert:hover {\n",
              "      background-color: #434B5C;\n",
              "      box-shadow: 0px 1px 3px 1px rgba(0, 0, 0, 0.15);\n",
              "      filter: drop-shadow(0px 1px 2px rgba(0, 0, 0, 0.3));\n",
              "      fill: #FFFFFF;\n",
              "    }\n",
              "  </style>\n",
              "\n",
              "      <script>\n",
              "        const buttonEl =\n",
              "          document.querySelector('#df-ae5ad6a1-313a-4a20-853e-659c9a6ea40d button.colab-df-convert');\n",
              "        buttonEl.style.display =\n",
              "          google.colab.kernel.accessAllowed ? 'block' : 'none';\n",
              "\n",
              "        async function convertToInteractive(key) {\n",
              "          const element = document.querySelector('#df-ae5ad6a1-313a-4a20-853e-659c9a6ea40d');\n",
              "          const dataTable =\n",
              "            await google.colab.kernel.invokeFunction('convertToInteractive',\n",
              "                                                     [key], {});\n",
              "          if (!dataTable) return;\n",
              "\n",
              "          const docLinkHtml = 'Like what you see? Visit the ' +\n",
              "            '<a target=\"_blank\" href=https://colab.research.google.com/notebooks/data_table.ipynb>data table notebook</a>'\n",
              "            + ' to learn more about interactive tables.';\n",
              "          element.innerHTML = '';\n",
              "          dataTable['output_type'] = 'display_data';\n",
              "          await google.colab.output.renderOutput(dataTable, element);\n",
              "          const docLink = document.createElement('div');\n",
              "          docLink.innerHTML = docLinkHtml;\n",
              "          element.appendChild(docLink);\n",
              "        }\n",
              "      </script>\n",
              "    </div>\n",
              "  </div>\n",
              "  "
            ]
          },
          "metadata": {},
          "execution_count": 4
        }
      ]
    },
    {
      "cell_type": "code",
      "source": [
        "df.shape"
      ],
      "metadata": {
        "colab": {
          "base_uri": "https://localhost:8080/"
        },
        "id": "yewoLHVuvdLV",
        "outputId": "c3c8fd28-dc6d-4ea1-a025-d82589e66821"
      },
      "execution_count": 5,
      "outputs": [
        {
          "output_type": "execute_result",
          "data": {
            "text/plain": [
              "(2200, 8)"
            ]
          },
          "metadata": {},
          "execution_count": 5
        }
      ]
    },
    {
      "cell_type": "code",
      "source": [
        "df.dtypes"
      ],
      "metadata": {
        "colab": {
          "base_uri": "https://localhost:8080/"
        },
        "id": "ZNHpWdrivhFU",
        "outputId": "a7367edb-e18f-4d66-a97f-731b3e9deebe"
      },
      "execution_count": 6,
      "outputs": [
        {
          "output_type": "execute_result",
          "data": {
            "text/plain": [
              "N                int64\n",
              "P                int64\n",
              "K                int64\n",
              "temperature    float64\n",
              "humidity       float64\n",
              "ph             float64\n",
              "rainfall       float64\n",
              "label           object\n",
              "dtype: object"
            ]
          },
          "metadata": {},
          "execution_count": 6
        }
      ]
    },
    {
      "cell_type": "code",
      "source": [
        "#Check missing Null values\n",
        "\n",
        "df.isnull()\n",
        "df.isnull().sum()\n",
        "\n",
        "# if there is missing values the fill with mean , median , mode\n",
        "# Mean : Numareical colum \n",
        "# Median : Lots of outliers\n",
        "# Mode : Catagorical value"
      ],
      "metadata": {
        "colab": {
          "base_uri": "https://localhost:8080/"
        },
        "id": "I9GQS8qlxW1K",
        "outputId": "d5362ac7-3463-410b-c099-7f79d233082a"
      },
      "execution_count": 7,
      "outputs": [
        {
          "output_type": "execute_result",
          "data": {
            "text/plain": [
              "N              0\n",
              "P              0\n",
              "K              0\n",
              "temperature    0\n",
              "humidity       0\n",
              "ph             0\n",
              "rainfall       0\n",
              "label          0\n",
              "dtype: int64"
            ]
          },
          "metadata": {},
          "execution_count": 7
        }
      ]
    },
    {
      "cell_type": "code",
      "source": [
        "# As looking intodata setwe can see data types have int, float, and obj \n",
        "# obj is for label\n",
        "# Now we check what are the unique values in Label col\n",
        "\n",
        "df['label'].value_counts()"
      ],
      "metadata": {
        "colab": {
          "base_uri": "https://localhost:8080/"
        },
        "id": "Fc-cTXuWyM8Y",
        "outputId": "4fb56ead-6ed1-4e80-8520-a734f3aae276"
      },
      "execution_count": 8,
      "outputs": [
        {
          "output_type": "execute_result",
          "data": {
            "text/plain": [
              "rice           100\n",
              "maize          100\n",
              "jute           100\n",
              "cotton         100\n",
              "coconut        100\n",
              "papaya         100\n",
              "orange         100\n",
              "apple          100\n",
              "muskmelon      100\n",
              "watermelon     100\n",
              "grapes         100\n",
              "mango          100\n",
              "banana         100\n",
              "pomegranate    100\n",
              "lentil         100\n",
              "blackgram      100\n",
              "mungbean       100\n",
              "mothbeans      100\n",
              "pigeonpeas     100\n",
              "kidneybeans    100\n",
              "chickpea       100\n",
              "coffee         100\n",
              "Name: label, dtype: int64"
            ]
          },
          "metadata": {},
          "execution_count": 8
        }
      ]
    },
    {
      "cell_type": "code",
      "source": [
        "# As well as \n",
        "\n",
        "df.label.unique()"
      ],
      "metadata": {
        "colab": {
          "base_uri": "https://localhost:8080/"
        },
        "id": "S7IJPCMAynKR",
        "outputId": "49f36032-9cc0-4b56-df85-47a8161f4674"
      },
      "execution_count": 9,
      "outputs": [
        {
          "output_type": "execute_result",
          "data": {
            "text/plain": [
              "array(['rice', 'maize', 'chickpea', 'kidneybeans', 'pigeonpeas',\n",
              "       'mothbeans', 'mungbean', 'blackgram', 'lentil', 'pomegranate',\n",
              "       'banana', 'mango', 'grapes', 'watermelon', 'muskmelon', 'apple',\n",
              "       'orange', 'papaya', 'coconut', 'cotton', 'jute', 'coffee'],\n",
              "      dtype=object)"
            ]
          },
          "metadata": {},
          "execution_count": 9
        }
      ]
    },
    {
      "cell_type": "code",
      "source": [
        "# Here we can see \n",
        "# 1. df['label'].value_counts() this give you unique value with there no of records\n",
        "# 2. df['label'].unique() this give you only unique value"
      ],
      "metadata": {
        "id": "QT6YLaCey0ip"
      },
      "execution_count": 10,
      "outputs": []
    },
    {
      "cell_type": "code",
      "source": [
        "# Now lets check Summary of all crops\n",
        "\n",
        "print(\"Average Ratio of Nitrogen in the soil : {0:.2f}\".format(df['N'].mean()))\n",
        "print(\"Average Ratio of Phosphorous in the soil : {0:.2f}\".format(df['P'].mean()))\n",
        "print(\"Average Ratio of Potassium in the soil : {0:.2f}\".format(df['K'].mean()))\n",
        "print(\"Average Ratio of Temperature in celsius : {0:.2f}\".format(df['temperature'].mean()))\n",
        "print(\"Average Ratio of Humidity in % : {0:.2f}\".format(df['humidity'].mean()))\n",
        "print(\"Average Ratio of ph in the soil : {0:.2f}\".format(df['ph'].mean()))\n",
        "print(\"Average Ratio of Rainfall in mm : {0:.2f}\".format(df['rainfall'].mean()))"
      ],
      "metadata": {
        "colab": {
          "base_uri": "https://localhost:8080/"
        },
        "id": "nnAB_jbCzZpB",
        "outputId": "7a6235d1-fc62-4f58-c92c-d2b3fa364580"
      },
      "execution_count": 11,
      "outputs": [
        {
          "output_type": "stream",
          "name": "stdout",
          "text": [
            "Average Ratio of Nitrogen in the soil : 50.55\n",
            "Average Ratio of Phosphorous in the soil : 53.36\n",
            "Average Ratio of Potassium in the soil : 48.15\n",
            "Average Ratio of Temperature in celsius : 25.62\n",
            "Average Ratio of Humidity in % : 71.48\n",
            "Average Ratio of ph in the soil : 6.47\n",
            "Average Ratio of Rainfall in mm : 103.46\n"
          ]
        }
      ]
    },
    {
      "cell_type": "code",
      "source": [
        "# Now we closly look into Min, Avg, Max for each crop\n",
        "\n",
        "@interact\n",
        "def summary(crops = list(df.label.value_counts().index)):\n",
        "  x= df[df.label == crops]\n",
        "  print(\"___________________________________________________\")\n",
        "  print(\"Statistic of Nitrogen :\")\n",
        "  print(\"Minimum Nitrogen required :\",x['N'].min())\n",
        "  print(\"Average Nitrogen required :\",x['N'].mean())\n",
        "  print(\"Mximum Nitrogen required :\",x['N'].max())\n",
        "  print(\"___________________________________________________\")\n",
        "  print(\"Statistic of Phosphorous :\")\n",
        "  print(\"Minimum Phosphorous required :\",x['P'].min())\n",
        "  print(\"Average Phosphorous required :\",x['P'].mean())\n",
        "  print(\"Mximum Phosphorous required :\",x['P'].max())\n",
        "  print(\"___________________________________________________\")\n",
        "  print(\"Statistic of Potassium :\")\n",
        "  print(\"Minimum Potassium required :\",x['K'].min())\n",
        "  print(\"Average Potassium required :\",x['K'].mean())\n",
        "  print(\"Mximum Potassium required :\",x['K'].max())\n",
        "  print(\"___________________________________________________\")\n",
        "  print(\"Statistic of Temperature :\")\n",
        "  print(\"Minimum Temperature required :\",x['temperature'].min())\n",
        "  print(\"Average Temperature required :\",x['temperature'].mean())\n",
        "  print(\"Mximum Temperature required :\",x['temperature'].max())\n",
        "  print(\"___________________________________________________\")\n",
        "  print(\"Statistic of Humidity :\")\n",
        "  print(\"Minimum Humidity required :\",x['humidity'].min())\n",
        "  print(\"Average Humidity required :\",x['humidity'].mean())\n",
        "  print(\"Mximum Humidity required :\",x['humidity'].max())\n",
        "  print(\"___________________________________________________\")\n",
        "  print(\"Statistic of ph :\")\n",
        "  print(\"Minimum ph required :\",x['ph'].min())\n",
        "  print(\"Average ph required :\",x['ph'].mean())\n",
        "  print(\"Mximum ph required :\",x['ph'].max())\n",
        "  print(\"___________________________________________________\")\n",
        "  print(\"Statistic of Rainfall :\")\n",
        "  print(\"Minimum Rainfall required :\",x['rainfall'].min())\n",
        "  print(\"Average Rainfall required :\",x['rainfall'].mean())\n",
        "  print(\"Mximum Rainfall required :\",x['rainfall'].max())\n",
        "  print(\"___________________________________________________\")\n",
        "  "
      ],
      "metadata": {
        "colab": {
          "base_uri": "https://localhost:8080/",
          "height": 674,
          "referenced_widgets": [
            "f9428fe9083a4876993c8df550782a91",
            "ca13267fdcd049e3b39e9bf09be4cbef",
            "a38f3420a88c49b5a88abbe39e9dbed5",
            "e713d8094e8746599743823948813cad",
            "c506c08a94294d9ab286d85c477589ce",
            "f9e142657ba44f7ead429c70f63a2d9b",
            "0a90062ecbcf4cd7acb51fd5b0a12972"
          ]
        },
        "id": "QM2b0yHa6dO-",
        "outputId": "90b7f011-cb58-4c24-ec2a-8b8c94a00f69"
      },
      "execution_count": 12,
      "outputs": [
        {
          "output_type": "display_data",
          "data": {
            "text/plain": [
              "interactive(children=(Dropdown(description='crops', options=('rice', 'maize', 'jute', 'cotton', 'coconut', 'pa…"
            ],
            "application/vnd.jupyter.widget-view+json": {
              "version_major": 2,
              "version_minor": 0,
              "model_id": "f9428fe9083a4876993c8df550782a91"
            }
          },
          "metadata": {}
        }
      ]
    },
    {
      "cell_type": "code",
      "source": [
        "df.label.unique()"
      ],
      "metadata": {
        "colab": {
          "base_uri": "https://localhost:8080/"
        },
        "id": "vQVQvx-RDNzD",
        "outputId": "157b54c1-3d57-4c96-bc9e-cb04bb0538df"
      },
      "execution_count": 13,
      "outputs": [
        {
          "output_type": "execute_result",
          "data": {
            "text/plain": [
              "array(['rice', 'maize', 'chickpea', 'kidneybeans', 'pigeonpeas',\n",
              "       'mothbeans', 'mungbean', 'blackgram', 'lentil', 'pomegranate',\n",
              "       'banana', 'mango', 'grapes', 'watermelon', 'muskmelon', 'apple',\n",
              "       'orange', 'papaya', 'coconut', 'cotton', 'jute', 'coffee'],\n",
              "      dtype=object)"
            ]
          },
          "metadata": {},
          "execution_count": 13
        }
      ]
    },
    {
      "cell_type": "code",
      "source": [
        "#Lets compare the average requirement for each crop with average condition\n",
        "\n",
        "@interact \n",
        "def compare(conditions = ['N', 'P', 'K', 'temperature', 'humidity', 'ph', 'rainfall']):\n",
        "  print(\"Average value for \",conditions, \"is {0:.2f}\".format(df[conditions].mean()))\n",
        "  print(\"_____________________________________________________________________________\")\n",
        "  print(\"Rice : {0:.2f}\".format(df[(df['label'] == 'rice')][conditions].mean()))\n",
        "  print(\"maize : {0:.2f}\".format(df[(df['label'] == 'maize')][conditions].mean()))\n",
        "  print(\"chickpea : {0:.2f}\".format(df[(df['label'] == 'chickpea')][conditions].mean()))\n",
        "  print(\"kidneybeans : {0:.2f}\".format(df[(df['label'] == 'kidneybeans')][conditions].mean()))\n",
        "  print(\"pigeonpeas : {0:.2f}\".format(df[(df['label'] == 'pigeonpeas')][conditions].mean()))\n",
        "  print(\"mothbeans : {0:.2f}\".format(df[(df['label'] == 'mothbeans')][conditions].mean()))\n",
        "  print(\"mungbean : {0:.2f}\".format(df[(df['label'] == 'mungbean')][conditions].mean()))\n",
        "  print(\"blackgram : {0:.2f}\".format(df[(df['label'] == 'blackgram')][conditions].mean()))\n",
        "  print(\"lentil : {0:.2f}\".format(df[(df['label'] == 'lentil')][conditions].mean()))\n",
        "  print(\"pomegranate : {0:.2f}\".format(df[(df['label'] == 'pomegranate')][conditions].mean()))\n",
        "  print(\"banana : {0:.2f}\".format(df[(df['label'] == 'banana')][conditions].mean()))\n",
        "  print(\"mango : {0:.2f}\".format(df[(df['label'] == 'mango')][conditions].mean()))\n",
        "  print(\"grapes : {0:.2f}\".format(df[(df['label'] == 'grapes')][conditions].mean()))\n",
        "  print(\"watermelon : {0:.2f}\".format(df[(df['label'] == 'watermelon')][conditions].mean()))\n",
        "  print(\"muskmelon : {0:.2f}\".format(df[(df['label'] == 'muskmelon')][conditions].mean()))\n",
        "  print(\"apple : {0:.2f}\".format(df[(df['label'] == 'apple')][conditions].mean()))\n",
        "  print(\"orange : {0:.2f}\".format(df[(df['label'] == 'orange')][conditions].mean()))\n",
        "  print(\"papaya : {0:.2f}\".format(df[(df['label'] == 'papaya')][conditions].mean()))\n",
        "  print(\"coconut : {0:.2f}\".format(df[(df['label'] == 'coconut')][conditions].mean()))\n",
        "  print(\"cotton : {0:.2f}\".format(df[(df['label'] == 'cotton')][conditions].mean()))\n",
        "  print(\"jute : {0:.2f}\".format(df[(df['label'] == 'jute')][conditions].mean()))\n",
        "  print(\"coffee : {0:.2f}\".format(df[(df['label'] == 'coffee')][conditions].mean()))"
      ],
      "metadata": {
        "colab": {
          "base_uri": "https://localhost:8080/",
          "height": 466,
          "referenced_widgets": [
            "2b629d7e054b4c24bb54d003e7a6b7ed",
            "2c888f9a54d547d08fed69dde529d5cd",
            "dcdab21db226423194a18c9b7ebc354c",
            "a5fb841f0ab94d3e9824fd0eb6c87722",
            "7f1b4561d5d443f4ad093cb2d277cf12",
            "ef23878fe77c440896a0e13db1aea8b0",
            "4174100b21e74c74b33d54c7481e65df"
          ]
        },
        "id": "WiDxa6eYAutC",
        "outputId": "0cb8ff7c-399e-4831-ab4d-59d3ab3bcb62"
      },
      "execution_count": 14,
      "outputs": [
        {
          "output_type": "display_data",
          "data": {
            "text/plain": [
              "interactive(children=(Dropdown(description='conditions', options=('N', 'P', 'K', 'temperature', 'humidity', 'p…"
            ],
            "application/vnd.jupyter.widget-view+json": {
              "version_major": 2,
              "version_minor": 0,
              "model_id": "2b629d7e054b4c24bb54d003e7a6b7ed"
            }
          },
          "metadata": {}
        }
      ]
    },
    {
      "cell_type": "code",
      "source": [
        "# Now we are creating a function where we can see which vrops required below avg or ablove avg conditions\n",
        "\n",
        "@interact\n",
        "def compare(conditions = ['N', 'P', 'K', 'temperature', 'humidity', 'ph', 'rainfall']):\n",
        "  print(\"Crops which require greater than average\", conditions,'\\n')\n",
        "  print(df[df[conditions] > df[conditions].mean()]['label'].unique())\n",
        "  print('________________________________________________________________________________')\n",
        "  print(\"Crops which require less than average\", conditions,'\\n')\n",
        "  print(df[df[conditions] <= df[conditions].mean()]['label'].unique())\n",
        "  "
      ],
      "metadata": {
        "colab": {
          "base_uri": "https://localhost:8080/",
          "height": 223,
          "referenced_widgets": [
            "a69a15ef11bc4cd5ac64e3217114c90b",
            "10236bd2b3504639b64f17f92de094ff",
            "ce173b19973d48919d37ae851bc43341",
            "4d48d29c66a64620a96994255daa9d01",
            "b5288850ca504bfc8cc422f16bcc6daf",
            "253af768b06a4584ae9692a0bfe4a446",
            "c05b1aa1e2b3498da71df5fd776cf139"
          ]
        },
        "id": "o3OnL4pDFoH1",
        "outputId": "6fbecd83-eb9f-4ccc-c08d-8313f590353d"
      },
      "execution_count": 15,
      "outputs": [
        {
          "output_type": "display_data",
          "data": {
            "text/plain": [
              "interactive(children=(Dropdown(description='conditions', options=('N', 'P', 'K', 'temperature', 'humidity', 'p…"
            ],
            "application/vnd.jupyter.widget-view+json": {
              "version_major": 2,
              "version_minor": 0,
              "model_id": "a69a15ef11bc4cd5ac64e3217114c90b"
            }
          },
          "metadata": {}
        }
      ]
    },
    {
      "cell_type": "code",
      "source": [
        "from numpy.core.fromnumeric import size\n",
        "\n",
        "plt.subplot(2,4,1)\n",
        "sb.distplot(df['N'], color = 'pink')\n",
        "plt.xlabel('Nitrogen', fontsize=12)\n",
        "plt.grid()\n",
        "\n",
        "plt.subplot(2,4,2)\n",
        "sb.distplot(df['P'], color = 'blue')\n",
        "plt.xlabel('Phospharus', fontsize=12)\n",
        "plt.grid()\n",
        "\n",
        "plt.subplot(2,4,3)\n",
        "sb.distplot(df['K'], color = 'darkgreen')\n",
        "plt.xlabel('Potasium', fontsize=12)\n",
        "plt.grid()\n",
        "\n",
        "plt.subplot(2,4,4)\n",
        "sb.distplot(df['temperature'], color = 'red')\n",
        "plt.xlabel('Temperature', fontsize=12)\n",
        "plt.grid()\n",
        "\n",
        "plt.subplot(2,4,5)\n",
        "sb.distplot(df['humidity'], color = 'orange')\n",
        "plt.xlabel('Humidity', fontsize=12)\n",
        "plt.grid()\n",
        "\n",
        "plt.subplot(2,4,6)\n",
        "sb.distplot(df['temperature'], color = 'gray')\n",
        "plt.xlabel('Temperature', fontsize=12)\n",
        "plt.grid()\n",
        "\n",
        "plt.subplot(2,4,7)\n",
        "sb.distplot(df['ph'], color = 'darkgreen')\n",
        "plt.xlabel('PH', fontsize=12)\n",
        "plt.grid()\n",
        "\n",
        "plt.subplot(2,4,8)\n",
        "sb.distplot(df['rainfall'], color = 'lightgreen')\n",
        "plt.xlabel('Rainfall', fontsize=12)\n",
        "plt.grid()\n",
        "\n",
        "plt.suptitle(\"Distribution for agreculture condition\")\n",
        "\n",
        "plt.show()"
      ],
      "metadata": {
        "colab": {
          "base_uri": "https://localhost:8080/",
          "height": 609
        },
        "id": "_7xjRv7aAEiC",
        "outputId": "d1aeee76-c37a-4c43-c276-1423a83889fc"
      },
      "execution_count": 23,
      "outputs": [
        {
          "output_type": "stream",
          "name": "stderr",
          "text": [
            "/usr/local/lib/python3.7/dist-packages/seaborn/distributions.py:2619: FutureWarning: `distplot` is a deprecated function and will be removed in a future version. Please adapt your code to use either `displot` (a figure-level function with similar flexibility) or `histplot` (an axes-level function for histograms).\n",
            "  warnings.warn(msg, FutureWarning)\n",
            "/usr/local/lib/python3.7/dist-packages/seaborn/distributions.py:2619: FutureWarning: `distplot` is a deprecated function and will be removed in a future version. Please adapt your code to use either `displot` (a figure-level function with similar flexibility) or `histplot` (an axes-level function for histograms).\n",
            "  warnings.warn(msg, FutureWarning)\n",
            "/usr/local/lib/python3.7/dist-packages/seaborn/distributions.py:2619: FutureWarning: `distplot` is a deprecated function and will be removed in a future version. Please adapt your code to use either `displot` (a figure-level function with similar flexibility) or `histplot` (an axes-level function for histograms).\n",
            "  warnings.warn(msg, FutureWarning)\n",
            "/usr/local/lib/python3.7/dist-packages/seaborn/distributions.py:2619: FutureWarning: `distplot` is a deprecated function and will be removed in a future version. Please adapt your code to use either `displot` (a figure-level function with similar flexibility) or `histplot` (an axes-level function for histograms).\n",
            "  warnings.warn(msg, FutureWarning)\n",
            "/usr/local/lib/python3.7/dist-packages/seaborn/distributions.py:2619: FutureWarning: `distplot` is a deprecated function and will be removed in a future version. Please adapt your code to use either `displot` (a figure-level function with similar flexibility) or `histplot` (an axes-level function for histograms).\n",
            "  warnings.warn(msg, FutureWarning)\n",
            "/usr/local/lib/python3.7/dist-packages/seaborn/distributions.py:2619: FutureWarning: `distplot` is a deprecated function and will be removed in a future version. Please adapt your code to use either `displot` (a figure-level function with similar flexibility) or `histplot` (an axes-level function for histograms).\n",
            "  warnings.warn(msg, FutureWarning)\n",
            "/usr/local/lib/python3.7/dist-packages/seaborn/distributions.py:2619: FutureWarning: `distplot` is a deprecated function and will be removed in a future version. Please adapt your code to use either `displot` (a figure-level function with similar flexibility) or `histplot` (an axes-level function for histograms).\n",
            "  warnings.warn(msg, FutureWarning)\n",
            "/usr/local/lib/python3.7/dist-packages/seaborn/distributions.py:2619: FutureWarning: `distplot` is a deprecated function and will be removed in a future version. Please adapt your code to use either `displot` (a figure-level function with similar flexibility) or `histplot` (an axes-level function for histograms).\n",
            "  warnings.warn(msg, FutureWarning)\n"
          ]
        },
        {
          "output_type": "display_data",
          "data": {
            "text/plain": [
              "<Figure size 432x288 with 8 Axes>"
            ],
            "image/png": "[encoded data removed]"
          },
          "metadata": {
            "needs_background": "light"
          }
        }
      ]
    },
    {
      "cell_type": "code",
      "source": [
        "# Now we are seprating unusualls patterns between data\n",
        "\n",
        "print(\"Some interasting pattern\")\n",
        "print(\"______________________________________________________________________________________\")\n",
        "print(\"Crops require high ratio of nitrogen contents in soil \", df[df['N']>120]['label'].unique())\n",
        "print(\"Crops require high ratio of phospurus contents in soil \", df[df['P']>100]['label'].unique())\n",
        "print(\"Crops require high ratio of nitrogen potassium in soil \", df[df['N']>200]['label'].unique())\n",
        "print(\"Crops require high rain fall \", df[df['rainfall']>200]['label'].unique())\n",
        "print(\"Crops require high temprature \", df[df['temperature']>40]['label'].unique())\n",
        "print(\"Crops require high ph \", df[df['ph']>9]['label'].unique())"
      ],
      "metadata": {
        "colab": {
          "base_uri": "https://localhost:8080/"
        },
        "id": "NMZNNlhZC_gH",
        "outputId": "25ef4e88-b4d8-4880-a28d-d14ce168f1b2"
      },
      "execution_count": 27,
      "outputs": [
        {
          "output_type": "stream",
          "name": "stdout",
          "text": [
            "Some interasting pattern\n",
            "______________________________________________________________________________________\n",
            "Crops require high ratio of nitrogen contents in soil  ['cotton']\n",
            "Crops require high ratio of phospurus contents in soil  ['grapes' 'apple']\n",
            "Crops require high ratio of nitrogen potassium in soil  []\n",
            "Crops require high rain fall  ['rice' 'papaya' 'coconut']\n",
            "Crops require high temprature  ['grapes' 'papaya']\n",
            "Crops require high ph  ['mothbeans']\n"
          ]
        }
      ]
    },
    {
      "cell_type": "code",
      "source": [
        "# Which crops we have to grow according to seasion\n",
        "\n",
        "print(\"Summer crops\")\n",
        "print(df[(df['temperature'] > 30) & (df['humidity'] > 50)]['label'].unique())\n",
        "print(\"_______________________________________\")\n",
        "print(\"Winter crops\")\n",
        "print(df[(df['temperature'] < 20) & (df['humidity'] > 30)]['label'].unique())\n",
        "print(\"_______________________________________\")\n",
        "print(\"Winter crops\")\n",
        "print(df[(df['rainfall'] > 200) & (df['humidity'] > 30)]['label'].unique())\n",
        "print(\"_______________________________________\")\n"
      ],
      "metadata": {
        "colab": {
          "base_uri": "https://localhost:8080/"
        },
        "id": "AB8qnuV9EfaB",
        "outputId": "9acd1263-7e5a-480f-de73-31f20a916e0a"
      },
      "execution_count": 31,
      "outputs": [
        {
          "output_type": "stream",
          "name": "stdout",
          "text": [
            "Summer crops\n",
            "['pigeonpeas' 'mothbeans' 'blackgram' 'mango' 'grapes' 'orange' 'papaya']\n",
            "_______________________________________\n",
            "Winter crops\n",
            "['maize' 'pigeonpeas' 'lentil' 'pomegranate' 'grapes' 'orange']\n",
            "_______________________________________\n",
            "Winter crops\n",
            "['rice' 'papaya' 'coconut']\n",
            "_______________________________________\n"
          ]
        }
      ]
    },
    {
      "cell_type": "code",
      "source": [
        "# Above we make EXPLORATORY ANALYSIS with data"
      ],
      "metadata": {
        "id": "iMLVBG3cMDTO"
      },
      "execution_count": 32,
      "outputs": []
    },
    {
      "cell_type": "code",
      "source": [
        "#Now we use clustaring analyasis \n",
        "# here we using k- means clustaring \n",
        "\n",
        "from sklearn.cluster import KMeans\n",
        "\n",
        "#Removing label of colukn\n",
        "x= df.drop(['label'], axis=1)\n",
        "\n",
        "#Selecting all the values for the data\n",
        "X= x.values\n",
        "\n",
        "print(x.shape)\n"
      ],
      "metadata": {
        "colab": {
          "base_uri": "https://localhost:8080/"
        },
        "id": "oN4YgA8gMLSI",
        "outputId": "b725b236-a885-4085-e528-5ac2abcd065f"
      },
      "execution_count": 34,
      "outputs": [
        {
          "output_type": "stream",
          "name": "stdout",
          "text": [
            "(2200, 7)\n"
          ]
        }
      ]
    },
    {
      "cell_type": "code",
      "source": [
        "# Lets determine optimal no of clusters\n",
        "\n",
        "plt.rcParams['figure.figsize']=(10,4)\n",
        "\n",
        "wcss=[]\n",
        "\n",
        "for i in range(1, 11):\n",
        "  km = KMeans(n_clusters = i, init= 'k-means++', max_iter= 300, n_init = 10, random_state=0)\n",
        "  km.fit(x)\n",
        "  wcss.append(km.inertia_)\n",
        "\n",
        "#Result plotting\n",
        "plt.plot(range(1,11), wcss)\n",
        "plt.title('The Elbow Method', fontsize=20)\n",
        "plt.xlabel('No. of cluster')\n",
        "plt.ylabel('wcss')\n",
        "plt.show()\n",
        "\n"
      ],
      "metadata": {
        "colab": {
          "base_uri": "https://localhost:8080/",
          "height": 300
        },
        "id": "dwwOTfb8Nwbh",
        "outputId": "6798cc8e-5633-418f-9c79-ac9326ad7a4e"
      },
      "execution_count": 36,
      "outputs": [
        {
          "output_type": "display_data",
          "data": {
            "text/plain": [
              "<Figure size 720x288 with 1 Axes>"
            ],
            "image/png": "[encoded data removed]"
          },
          "metadata": {
            "needs_background": "light"
          }
        }
      ]
    },
    {
      "cell_type": "code",
      "source": [
        "# In above we can see there are 2 major elbows at 3 & 4 now we take gretest = 4"
      ],
      "metadata": {
        "id": "ExmxA5iBPhcO"
      },
      "execution_count": 37,
      "outputs": []
    },
    {
      "cell_type": "code",
      "source": [
        "# Lets implement kmeans algo\n",
        "km = KMeans(n_clusters=4, init='k-means++', max_iter= 300, n_init= 10, random_state = 0)\n",
        "y_means= km.fit_predict(x)\n",
        "\n",
        "# Result\n",
        "a= df['label']\n",
        "y_means= pd.DataFrame(y_means)\n",
        "z = pd.concat([y_means, a], axis=1)\n",
        "z = z.rename(columns = {0: 'cluster'})\n",
        "\n",
        "#Check cluster of each crop\n",
        "print(\"Lets check the result after applying  the K Means clustering analysis\")\n",
        "print(\"Crops in first cluster:\", z[z['cluster']==0]['label'].unique())\n",
        "print(\"___________________________________________________________________\")\n",
        "print(\"Crops in first cluster:\", z[z['cluster']==1]['label'].unique())\n",
        "print(\"___________________________________________________________________\")\n",
        "print(\"Crops in first cluster:\", z[z['cluster']==2]['label'].unique())\n",
        "print(\"___________________________________________________________________\")\n",
        "print(\"Crops in first cluster:\", z[z['cluster']==3]['label'].unique())\n",
        "print(\"___________________________________________________________________\")\n"
      ],
      "metadata": {
        "colab": {
          "base_uri": "https://localhost:8080/"
        },
        "id": "JdS7O6laPr7c",
        "outputId": "78cae9d1-687d-43da-827a-71f569460565"
      },
      "execution_count": 38,
      "outputs": [
        {
          "output_type": "stream",
          "name": "stdout",
          "text": [
            "Lets check the result after applying  the K Means clustering analysis\n",
            "Crops in first cluster: ['maize' 'chickpea' 'kidneybeans' 'pigeonpeas' 'mothbeans' 'mungbean'\n",
            " 'blackgram' 'lentil' 'pomegranate' 'mango' 'orange' 'papaya' 'coconut']\n",
            "___________________________________________________________________\n",
            "Crops in first cluster: ['maize' 'banana' 'watermelon' 'muskmelon' 'papaya' 'cotton' 'coffee']\n",
            "___________________________________________________________________\n",
            "Crops in first cluster: ['grapes' 'apple']\n",
            "___________________________________________________________________\n",
            "Crops in first cluster: ['rice' 'pigeonpeas' 'papaya' 'coconut' 'jute' 'coffee']\n",
            "___________________________________________________________________\n"
          ]
        }
      ]
    },
    {
      "cell_type": "code",
      "source": [
        "# As we can see above those crops who is in similer cluster they are similar "
      ],
      "metadata": {
        "id": "TpAu4nBoRhvL"
      },
      "execution_count": null,
      "outputs": []
    },
    {
      "cell_type": "code",
      "source": [
        "# Now we are making predictive model where it can predict best crops according to given condition "
      ],
      "metadata": {
        "id": "PlBY9FVpR7OV"
      },
      "execution_count": 39,
      "outputs": []
    },
    {
      "cell_type": "code",
      "source": [
        "y=df['label']\n",
        "x= df.drop(['label'], axis=1)"
      ],
      "metadata": {
        "id": "zkl6qI1yTKHb"
      },
      "execution_count": 40,
      "outputs": []
    },
    {
      "cell_type": "code",
      "source": [
        "from sklearn.model_selection import train_test_split \n",
        "x_train, x_test, y_train, y_test = train_test_split(x, y, test_size= 0.2, random_state=0)\n",
        "\n",
        "from sklearn.linear_model import LogisticRegression\n",
        "model = LogisticRegression()\n",
        "model.fit(x_train, y_train)\n",
        "y_pred = model.predict(x_test)\n"
      ],
      "metadata": {
        "colab": {
          "base_uri": "https://localhost:8080/"
        },
        "id": "bU7bD91GTW8W",
        "outputId": "926c098f-e5fc-42a8-942e-81a20ddb2003"
      },
      "execution_count": 41,
      "outputs": [
        {
          "output_type": "stream",
          "name": "stderr",
          "text": [
            "/usr/local/lib/python3.7/dist-packages/sklearn/linear_model/_logistic.py:818: ConvergenceWarning: lbfgs failed to converge (status=1):\n",
            "STOP: TOTAL NO. of ITERATIONS REACHED LIMIT.\n",
            "\n",
            "Increase the number of iterations (max_iter) or scale the data as shown in:\n",
            "    https://scikit-learn.org/stable/modules/preprocessing.html\n",
            "Please also refer to the documentation for alternative solver options:\n",
            "    https://scikit-learn.org/stable/modules/linear_model.html#logistic-regression\n",
            "  extra_warning_msg=_LOGISTIC_SOLVER_CONVERGENCE_MSG,\n"
          ]
        }
      ]
    },
    {
      "cell_type": "code",
      "source": [
        "#Evaluate model performance\n",
        "from sklearn.metrics import confusion_matrix\n",
        "\n",
        "#Print confusion matrix first\n",
        "plt.rcParams['figure.figsize'] = (10,10)\n",
        "cm = confusion_matrix(y_test, y_pred)\n",
        "sb.heatmap(cm, annot= True, cmap= 'Wistia')\n",
        "plt.title(\"Confusion matrix for Logical regression\", fontsize = 12)\n",
        "plt.show()\n"
      ],
      "metadata": {
        "colab": {
          "base_uri": "https://localhost:8080/",
          "height": 607
        },
        "id": "41oqjPydUYzx",
        "outputId": "8786bc8e-9b6d-4fcd-bc7a-e9082da56e10"
      },
      "execution_count": 42,
      "outputs": [
        {
          "output_type": "display_data",
          "data": {
            "text/plain": [
              "<Figure size 720x720 with 2 Axes>"
            ],
            "image/png": "[encoded data removed]"
          },
          "metadata": {
            "needs_background": "light"
          }
        }
      ]
    },
    {
      "cell_type": "code",
      "source": [
        "# Now print Classification report\n",
        "from sklearn.metrics import classification_report\n",
        "cr = classification_report(y_test, y_pred)\n",
        "print(cr)"
      ],
      "metadata": {
        "colab": {
          "base_uri": "https://localhost:8080/"
        },
        "id": "Su59rLD5Vhjs",
        "outputId": "b34f6738-6b16-434d-da5f-a5a9d533ed0f"
      },
      "execution_count": 44,
      "outputs": [
        {
          "output_type": "stream",
          "name": "stdout",
          "text": [
            "              precision    recall  f1-score   support\n",
            "\n",
            "       apple       1.00      1.00      1.00        18\n",
            "      banana       1.00      1.00      1.00        18\n",
            "   blackgram       0.86      0.82      0.84        22\n",
            "    chickpea       1.00      1.00      1.00        23\n",
            "     coconut       1.00      1.00      1.00        15\n",
            "      coffee       1.00      1.00      1.00        17\n",
            "      cotton       0.89      1.00      0.94        16\n",
            "      grapes       1.00      1.00      1.00        18\n",
            "        jute       0.84      1.00      0.91        21\n",
            " kidneybeans       1.00      1.00      1.00        20\n",
            "      lentil       0.94      0.94      0.94        17\n",
            "       maize       0.94      0.89      0.91        18\n",
            "       mango       1.00      1.00      1.00        21\n",
            "   mothbeans       0.88      0.92      0.90        25\n",
            "    mungbean       1.00      1.00      1.00        17\n",
            "   muskmelon       1.00      1.00      1.00        23\n",
            "      orange       1.00      1.00      1.00        23\n",
            "      papaya       1.00      0.95      0.98        21\n",
            "  pigeonpeas       1.00      1.00      1.00        22\n",
            " pomegranate       1.00      1.00      1.00        23\n",
            "        rice       1.00      0.84      0.91        25\n",
            "  watermelon       1.00      1.00      1.00        17\n",
            "\n",
            "    accuracy                           0.97       440\n",
            "   macro avg       0.97      0.97      0.97       440\n",
            "weighted avg       0.97      0.97      0.97       440\n",
            "\n"
          ]
        }
      ]
    }
  ]
}