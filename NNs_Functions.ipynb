{
 "cells": [
  {
   "cell_type": "code",
   "execution_count": 28,
   "id": "321ed9fd",
   "metadata": {},
   "outputs": [],
   "source": [
    "# Sigmoid function\n",
    "#Sigmoid convert any value to range 0 & 1"
   ]
  },
  {
   "cell_type": "code",
   "execution_count": 1,
   "id": "f90851c1",
   "metadata": {},
   "outputs": [],
   "source": [
    "import math"
   ]
  },
  {
   "cell_type": "code",
   "execution_count": 2,
   "id": "09c21d01",
   "metadata": {},
   "outputs": [],
   "source": [
    "def sigmoid(x):\n",
    "    return 1/(1+math.exp(-x))"
   ]
  },
  {
   "cell_type": "code",
   "execution_count": 3,
   "id": "4ae0d7b5",
   "metadata": {},
   "outputs": [
    {
     "data": {
      "text/plain": [
       "0.8807970779778823"
      ]
     },
     "execution_count": 3,
     "metadata": {},
     "output_type": "execute_result"
    }
   ],
   "source": [
    "x=sigmoid(2)\n",
    "x"
   ]
  },
  {
   "cell_type": "code",
   "execution_count": 29,
   "id": "22d1009d",
   "metadata": {},
   "outputs": [],
   "source": [
    "#tanh functionabs\n",
    "#tanh convert anyvalue in the range of -1 to 1"
   ]
  },
  {
   "cell_type": "code",
   "execution_count": 4,
   "id": "8e78346b",
   "metadata": {},
   "outputs": [],
   "source": [
    "def tanh(x):\n",
    "    return (math.exp(x) - math.exp(-x))/(math.exp(x)+math.exp(-x))"
   ]
  },
  {
   "cell_type": "code",
   "execution_count": 5,
   "id": "e400e3c6",
   "metadata": {},
   "outputs": [
    {
     "data": {
      "text/plain": [
       "-1.0"
      ]
     },
     "execution_count": 5,
     "metadata": {},
     "output_type": "execute_result"
    }
   ],
   "source": [
    "y=tanh(-22)\n",
    "y"
   ]
  },
  {
   "cell_type": "code",
   "execution_count": 30,
   "id": "0c290571",
   "metadata": {},
   "outputs": [],
   "source": [
    "# reLu function\n",
    "# relu function convert any \"-\" value to 0 and  \"+\" value as it is"
   ]
  },
  {
   "cell_type": "code",
   "execution_count": 6,
   "id": "7dd299c8",
   "metadata": {},
   "outputs": [],
   "source": [
    "def relu(x):\n",
    "    return max(0,x)"
   ]
  },
  {
   "cell_type": "code",
   "execution_count": 7,
   "id": "f5d77256",
   "metadata": {},
   "outputs": [
    {
     "data": {
      "text/plain": [
       "0"
      ]
     },
     "execution_count": 7,
     "metadata": {},
     "output_type": "execute_result"
    }
   ],
   "source": [
    "z=relu(-15)\n",
    "z"
   ]
  },
  {
   "cell_type": "code",
   "execution_count": 8,
   "id": "658df57c",
   "metadata": {},
   "outputs": [
    {
     "data": {
      "text/plain": [
       "15"
      ]
     },
     "execution_count": 8,
     "metadata": {},
     "output_type": "execute_result"
    }
   ],
   "source": [
    "z=relu(15)\n",
    "z"
   ]
  },
  {
   "cell_type": "code",
   "execution_count": 31,
   "id": "f67257be",
   "metadata": {},
   "outputs": [],
   "source": [
    "# leky_relu function\n",
    "# leaky value convert '-' value to 0.1*x (x= -100 -> 0.1 * (-100)= -10  ) & '+' value as it is"
   ]
  },
  {
   "cell_type": "code",
   "execution_count": 9,
   "id": "6b23bec6",
   "metadata": {},
   "outputs": [],
   "source": [
    "def leky_val(x):\n",
    "    return max(0.1*x, x)"
   ]
  },
  {
   "cell_type": "code",
   "execution_count": 10,
   "id": "e8a17953",
   "metadata": {},
   "outputs": [
    {
     "data": {
      "text/plain": [
       "-20.0"
      ]
     },
     "execution_count": 10,
     "metadata": {},
     "output_type": "execute_result"
    }
   ],
   "source": [
    "x=leky_val(-200)\n",
    "x"
   ]
  },
  {
   "cell_type": "code",
   "execution_count": 12,
   "id": "03d50e3e",
   "metadata": {},
   "outputs": [
    {
     "data": {
      "text/plain": [
       "200"
      ]
     },
     "execution_count": 12,
     "metadata": {},
     "output_type": "execute_result"
    }
   ],
   "source": [
    "x=leky_val(200)\n",
    "x"
   ]
  },
  {
   "cell_type": "code",
   "execution_count": 25,
   "id": "b690f3a5",
   "metadata": {},
   "outputs": [],
   "source": [
    "#---------------------------------------------------------------------------------------------------------------"
   ]
  },
  {
   "cell_type": "code",
   "execution_count": 26,
   "id": "95450e8e",
   "metadata": {},
   "outputs": [],
   "source": [
    "# we have\n",
    "# 1. Mean Absolute error\n",
    "# 2. Mean suared error\n",
    "# 3. Logloss or binary_cross_entrpy"
   ]
  },
  {
   "cell_type": "code",
   "execution_count": 27,
   "id": "c13a7e2f",
   "metadata": {},
   "outputs": [],
   "source": [
    "# 1. Mean Absolute error"
   ]
  },
  {
   "cell_type": "code",
   "execution_count": 13,
   "id": "f937ca67",
   "metadata": {},
   "outputs": [],
   "source": [
    "import numpy as np"
   ]
  },
  {
   "cell_type": "code",
   "execution_count": 14,
   "id": "710b8ce1",
   "metadata": {},
   "outputs": [],
   "source": [
    "#consider that \n",
    "y_predict = np.array([1,1,0,0,1])\n",
    "y_true = np.array([0.30,0.7,1.0,0,0.5])"
   ]
  },
  {
   "cell_type": "code",
   "execution_count": 21,
   "id": "2ac75212",
   "metadata": {},
   "outputs": [],
   "source": [
    "def mae(y_true, y_predict):\n",
    "    total_error = 0\n",
    "    \n",
    "    for yt, yp in zip(y_true, y_predict):\n",
    "        #print(yt, yp)\n",
    "        x=abs(yt-yp)\n",
    "        total_error = total_error + x\n",
    "    print(\"Total error : \"+str(total_error))\n",
    "    mae=total_error/len(y_true)\n",
    "    print(\"MAE : \"+str(mae))\n",
    "    return mae"
   ]
  },
  {
   "cell_type": "code",
   "execution_count": 22,
   "id": "f5c19e91",
   "metadata": {},
   "outputs": [
    {
     "name": "stdout",
     "output_type": "stream",
     "text": [
      "Total error : 2.5\n",
      "MAE : 0.5\n"
     ]
    },
    {
     "data": {
      "text/plain": [
       "0.5"
      ]
     },
     "execution_count": 22,
     "metadata": {},
     "output_type": "execute_result"
    }
   ],
   "source": [
    "mae(y_true, y_predict)"
   ]
  },
  {
   "cell_type": "code",
   "execution_count": 23,
   "id": "d4ddf70b",
   "metadata": {},
   "outputs": [],
   "source": [
    "#Above function is same as below"
   ]
  },
  {
   "cell_type": "code",
   "execution_count": 24,
   "id": "76a19425",
   "metadata": {},
   "outputs": [
    {
     "data": {
      "text/plain": [
       "0.5"
      ]
     },
     "execution_count": 24,
     "metadata": {},
     "output_type": "execute_result"
    }
   ],
   "source": [
    "y=np.mean(np.abs(y_predict-y_true))\n",
    "y"
   ]
  },
  {
   "cell_type": "code",
   "execution_count": null,
   "id": "3637455c",
   "metadata": {},
   "outputs": [],
   "source": [
    "# Mean squred error"
   ]
  },
  {
   "cell_type": "code",
   "execution_count": 36,
   "id": "1914dd12",
   "metadata": {},
   "outputs": [],
   "source": [
    "#consider that \n",
    "y_predict = np.array([1,1,0,0,1])\n",
    "y_true = np.array([0.30,0.7,1.0,0,0.5])"
   ]
  },
  {
   "cell_type": "code",
   "execution_count": 38,
   "id": "6f79401b",
   "metadata": {},
   "outputs": [],
   "source": [
    "def mse(y_true, y_predict):\n",
    "    total_error = 0\n",
    "    \n",
    "    for yt, yp in zip(y_true, y_predict):\n",
    "        #print(yt, yp)\n",
    "        x=(yt-yp)*(yt-yp)\n",
    "        total_error = total_error + x\n",
    "    print(\"Total error : \"+str(total_error))\n",
    "    mse=total_error/len(y_true)\n",
    "    print(\"MAE : \"+str(mse))\n",
    "    return mse"
   ]
  },
  {
   "cell_type": "code",
   "execution_count": 39,
   "id": "d7d44f80",
   "metadata": {},
   "outputs": [
    {
     "name": "stdout",
     "output_type": "stream",
     "text": [
      "Total error : 1.83\n",
      "MAE : 0.366\n"
     ]
    },
    {
     "data": {
      "text/plain": [
       "0.366"
      ]
     },
     "execution_count": 39,
     "metadata": {},
     "output_type": "execute_result"
    }
   ],
   "source": [
    "mse(y_true, y_predict)"
   ]
  },
  {
   "cell_type": "code",
   "execution_count": 41,
   "id": "bab5e4a5",
   "metadata": {},
   "outputs": [],
   "source": [
    "#Above function is same as below"
   ]
  },
  {
   "cell_type": "code",
   "execution_count": 40,
   "id": "2f797486",
   "metadata": {},
   "outputs": [
    {
     "data": {
      "text/plain": [
       "0.366"
      ]
     },
     "execution_count": 40,
     "metadata": {},
     "output_type": "execute_result"
    }
   ],
   "source": [
    "y=np.mean(np.square(y_predict-y_true))\n",
    "y"
   ]
  },
  {
   "cell_type": "code",
   "execution_count": 43,
   "id": "12525816",
   "metadata": {},
   "outputs": [],
   "source": [
    "# Logloss / binary_cross_entrpy function"
   ]
  },
  {
   "cell_type": "code",
   "execution_count": 48,
   "id": "d68ddc14",
   "metadata": {},
   "outputs": [],
   "source": [
    "#consider that \n",
    "y_predicted = np.array([1,1,0,0,1])\n",
    "y_true = np.array([0.30,0.7,1.0,0,0.5])"
   ]
  },
  {
   "cell_type": "code",
   "execution_count": 53,
   "id": "7e6f4dff",
   "metadata": {},
   "outputs": [
    {
     "name": "stdout",
     "output_type": "stream",
     "text": [
      " y_predicted_new : [1, 1, 1e-15, 1e-15, 1]\n",
      " 1-epsilon : 0.999999999999999\n",
      " y_predicted_new : [0.999999999999999, 0.999999999999999, 1e-15, 1e-15, 0.999999999999999]\n",
      " y_predicted_new : [1.e+00 1.e+00 1.e-15 1.e-15 1.e+00]\n",
      " np.log(y_predicted_new) : [-9.99200722e-16 -9.99200722e-16 -3.45387764e+01 -3.45387764e+01\n",
      " -9.99200722e-16]\n"
     ]
    },
    {
     "data": {
      "text/plain": [
       "17.2696280766844"
      ]
     },
     "execution_count": 53,
     "metadata": {},
     "output_type": "execute_result"
    }
   ],
   "source": [
    "epsilon = 1e-15\n",
    "np.log([1e-15])\n",
    "y_predicted_new = [max(i,epsilon) for i in y_predicted]\n",
    "print(\" y_predicted_new : \"+str(y_predicted_new))\n",
    "1-epsilon\n",
    "print(\" 1-epsilon : \"+str(1-epsilon))\n",
    "y_predicted_new = [min(i,1-epsilon) for i in y_predicted_new]\n",
    "print(\" y_predicted_new : \"+ str(y_predicted_new))\n",
    "y_predicted_new = np.array(y_predicted_new)\n",
    "print(\" y_predicted_new : \"+ str(y_predicted_new))\n",
    "np.log(y_predicted_new)\n",
    "print(\" np.log(y_predicted_new) : \"+str( np.log(y_predicted_new)))\n",
    "-np.mean(y_true*np.log(y_predicted_new)+(1-y_true)*np.log(1-y_predicted_new))"
   ]
  },
  {
   "cell_type": "code",
   "execution_count": 50,
   "id": "785bb9f7",
   "metadata": {},
   "outputs": [],
   "source": [
    "def log_loss(y_true, y_predicted):\n",
    "    y_predicted_new = [max(i,epsilon) for i in y_predicted]\n",
    "    y_predicted_new = [min(i,1-epsilon) for i in y_predicted_new]\n",
    "    y_predicted_new = np.array(y_predicted_new)\n",
    "    return -np.mean(y_true*np.log(y_predicted_new)+(1-y_true)*np.log(1-y_predicted_new))"
   ]
  },
  {
   "cell_type": "code",
   "execution_count": 51,
   "id": "86cf3fc2",
   "metadata": {},
   "outputs": [
    {
     "data": {
      "text/plain": [
       "17.2696280766844"
      ]
     },
     "execution_count": 51,
     "metadata": {},
     "output_type": "execute_result"
    }
   ],
   "source": [
    "log_loss(y_true, y_predicted)"
   ]
  }
 ],
 "metadata": {
  "kernelspec": {
   "display_name": "Python 3 (ipykernel)",
   "language": "python",
   "name": "python3"
  },
  "language_info": {
   "codemirror_mode": {
    "name": "ipython",
    "version": 3
   },
   "file_extension": ".py",
   "mimetype": "text/x-python",
   "name": "python",
   "nbconvert_exporter": "python",
   "pygments_lexer": "ipython3",
   "version": "3.9.7"
  }
 },
 "nbformat": 4,
 "nbformat_minor": 5
}
